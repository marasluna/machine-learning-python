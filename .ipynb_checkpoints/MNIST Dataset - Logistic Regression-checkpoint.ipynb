{
 "cells": [
  {
   "cell_type": "code",
   "execution_count": 2,
   "metadata": {},
   "outputs": [],
   "source": [
    "import matplotlib.pyplot as plt\n",
    "import numpy as np\n",
    "\n",
    "from sklearn.datasets import fetch_openml\n",
    "from sklearn.linear_model import LogisticRegression\n",
    "from sklearn.model_selection import train_test_split\n",
    "\n",
    "%matplotlib inline \n",
    "\n",
    "# mnist = fetch_openml('mnist_784', version=1, return_X_y=True)\n",
    "mnist_bunch = fetch_openml('mnist_784', version=1)"
   ]
  },
  {
   "cell_type": "code",
   "execution_count": 3,
   "metadata": {},
   "outputs": [
    {
     "name": "stdout",
     "output_type": "stream",
     "text": [
      "mnist keys: dict_keys(['data', 'target', 'feature_names', 'DESCR', 'details', 'categories', 'url'])\n"
     ]
    }
   ],
   "source": [
    "print(\"mnist keys: {}\".format(mnist_bunch.keys()))"
   ]
  },
  {
   "cell_type": "code",
   "execution_count": 4,
   "metadata": {},
   "outputs": [
    {
     "name": "stdout",
     "output_type": "stream",
     "text": [
      "target: ['5' '0' '4' ... '4' '5' '6']\n"
     ]
    }
   ],
   "source": [
    "print(\"target: {}\".format(mnist_bunch[\"target\"]))"
   ]
  },
  {
   "cell_type": "code",
   "execution_count": 21,
   "metadata": {},
   "outputs": [
    {
     "name": "stdout",
     "output_type": "stream",
     "text": [
      "feature names: ['pixel1', 'pixel2', 'pixel3', 'pixel4', 'pixel5', 'pixel6', 'pixel7', 'pixel8', 'pixel9', 'pixel10', 'pixel11', 'pixel12', 'pixel13', 'pixel14', 'pixel15', 'pixel16', 'pixel17', 'pixel18', 'pixel19', 'pixel20', 'pixel21', 'pixel22', 'pixel23', 'pixel24', 'pixel25', 'pixel26', 'pixel27', 'pixel28', 'pixel29', 'pixel30', 'pixel31', 'pixel32', 'pixel33', 'pixel34', 'pixel35', 'pixel36', 'pixel37', 'pixel38', 'pixel39', 'pixel40', 'pixel41', 'pixel42', 'pixel43', 'pixel44', 'pixel45', 'pixel46', 'pixel47', 'pixel48', 'pixel49', 'pixel50', 'pixel51', 'pixel52', 'pixel53', 'pixel54', 'pixel55', 'pixel56', 'pixel57', 'pixel58', 'pixel59', 'pixel60', 'pixel61', 'pixel62', 'pixel63', 'pixel64', 'pixel65', 'pixel66', 'pixel67', 'pixel68', 'pixel69', 'pixel70', 'pixel71', 'pixel72', 'pixel73', 'pixel74', 'pixel75', 'pixel76', 'pixel77', 'pixel78', 'pixel79', 'pixel80', 'pixel81', 'pixel82', 'pixel83', 'pixel84', 'pixel85', 'pixel86', 'pixel87', 'pixel88', 'pixel89', 'pixel90', 'pixel91', 'pixel92', 'pixel93', 'pixel94', 'pixel95', 'pixel96', 'pixel97', 'pixel98', 'pixel99', 'pixel100', 'pixel101', 'pixel102', 'pixel103', 'pixel104', 'pixel105', 'pixel106', 'pixel107', 'pixel108', 'pixel109', 'pixel110', 'pixel111', 'pixel112', 'pixel113', 'pixel114', 'pixel115', 'pixel116', 'pixel117', 'pixel118', 'pixel119', 'pixel120', 'pixel121', 'pixel122', 'pixel123', 'pixel124', 'pixel125', 'pixel126', 'pixel127', 'pixel128', 'pixel129', 'pixel130', 'pixel131', 'pixel132', 'pixel133', 'pixel134', 'pixel135', 'pixel136', 'pixel137', 'pixel138', 'pixel139', 'pixel140', 'pixel141', 'pixel142', 'pixel143', 'pixel144', 'pixel145', 'pixel146', 'pixel147', 'pixel148', 'pixel149', 'pixel150', 'pixel151', 'pixel152', 'pixel153', 'pixel154', 'pixel155', 'pixel156', 'pixel157', 'pixel158', 'pixel159', 'pixel160', 'pixel161', 'pixel162', 'pixel163', 'pixel164', 'pixel165', 'pixel166', 'pixel167', 'pixel168', 'pixel169', 'pixel170', 'pixel171', 'pixel172', 'pixel173', 'pixel174', 'pixel175', 'pixel176', 'pixel177', 'pixel178', 'pixel179', 'pixel180', 'pixel181', 'pixel182', 'pixel183', 'pixel184', 'pixel185', 'pixel186', 'pixel187', 'pixel188', 'pixel189', 'pixel190', 'pixel191', 'pixel192', 'pixel193', 'pixel194', 'pixel195', 'pixel196', 'pixel197', 'pixel198', 'pixel199', 'pixel200', 'pixel201', 'pixel202', 'pixel203', 'pixel204', 'pixel205', 'pixel206', 'pixel207', 'pixel208', 'pixel209', 'pixel210', 'pixel211', 'pixel212', 'pixel213', 'pixel214', 'pixel215', 'pixel216', 'pixel217', 'pixel218', 'pixel219', 'pixel220', 'pixel221', 'pixel222', 'pixel223', 'pixel224', 'pixel225', 'pixel226', 'pixel227', 'pixel228', 'pixel229', 'pixel230', 'pixel231', 'pixel232', 'pixel233', 'pixel234', 'pixel235', 'pixel236', 'pixel237', 'pixel238', 'pixel239', 'pixel240', 'pixel241', 'pixel242', 'pixel243', 'pixel244', 'pixel245', 'pixel246', 'pixel247', 'pixel248', 'pixel249', 'pixel250', 'pixel251', 'pixel252', 'pixel253', 'pixel254', 'pixel255', 'pixel256', 'pixel257', 'pixel258', 'pixel259', 'pixel260', 'pixel261', 'pixel262', 'pixel263', 'pixel264', 'pixel265', 'pixel266', 'pixel267', 'pixel268', 'pixel269', 'pixel270', 'pixel271', 'pixel272', 'pixel273', 'pixel274', 'pixel275', 'pixel276', 'pixel277', 'pixel278', 'pixel279', 'pixel280', 'pixel281', 'pixel282', 'pixel283', 'pixel284', 'pixel285', 'pixel286', 'pixel287', 'pixel288', 'pixel289', 'pixel290', 'pixel291', 'pixel292', 'pixel293', 'pixel294', 'pixel295', 'pixel296', 'pixel297', 'pixel298', 'pixel299', 'pixel300', 'pixel301', 'pixel302', 'pixel303', 'pixel304', 'pixel305', 'pixel306', 'pixel307', 'pixel308', 'pixel309', 'pixel310', 'pixel311', 'pixel312', 'pixel313', 'pixel314', 'pixel315', 'pixel316', 'pixel317', 'pixel318', 'pixel319', 'pixel320', 'pixel321', 'pixel322', 'pixel323', 'pixel324', 'pixel325', 'pixel326', 'pixel327', 'pixel328', 'pixel329', 'pixel330', 'pixel331', 'pixel332', 'pixel333', 'pixel334', 'pixel335', 'pixel336', 'pixel337', 'pixel338', 'pixel339', 'pixel340', 'pixel341', 'pixel342', 'pixel343', 'pixel344', 'pixel345', 'pixel346', 'pixel347', 'pixel348', 'pixel349', 'pixel350', 'pixel351', 'pixel352', 'pixel353', 'pixel354', 'pixel355', 'pixel356', 'pixel357', 'pixel358', 'pixel359', 'pixel360', 'pixel361', 'pixel362', 'pixel363', 'pixel364', 'pixel365', 'pixel366', 'pixel367', 'pixel368', 'pixel369', 'pixel370', 'pixel371', 'pixel372', 'pixel373', 'pixel374', 'pixel375', 'pixel376', 'pixel377', 'pixel378', 'pixel379', 'pixel380', 'pixel381', 'pixel382', 'pixel383', 'pixel384', 'pixel385', 'pixel386', 'pixel387', 'pixel388', 'pixel389', 'pixel390', 'pixel391', 'pixel392', 'pixel393', 'pixel394', 'pixel395', 'pixel396', 'pixel397', 'pixel398', 'pixel399', 'pixel400', 'pixel401', 'pixel402', 'pixel403', 'pixel404', 'pixel405', 'pixel406', 'pixel407', 'pixel408', 'pixel409', 'pixel410', 'pixel411', 'pixel412', 'pixel413', 'pixel414', 'pixel415', 'pixel416', 'pixel417', 'pixel418', 'pixel419', 'pixel420', 'pixel421', 'pixel422', 'pixel423', 'pixel424', 'pixel425', 'pixel426', 'pixel427', 'pixel428', 'pixel429', 'pixel430', 'pixel431', 'pixel432', 'pixel433', 'pixel434', 'pixel435', 'pixel436', 'pixel437', 'pixel438', 'pixel439', 'pixel440', 'pixel441', 'pixel442', 'pixel443', 'pixel444', 'pixel445', 'pixel446', 'pixel447', 'pixel448', 'pixel449', 'pixel450', 'pixel451', 'pixel452', 'pixel453', 'pixel454', 'pixel455', 'pixel456', 'pixel457', 'pixel458', 'pixel459', 'pixel460', 'pixel461', 'pixel462', 'pixel463', 'pixel464', 'pixel465', 'pixel466', 'pixel467', 'pixel468', 'pixel469', 'pixel470', 'pixel471', 'pixel472', 'pixel473', 'pixel474', 'pixel475', 'pixel476', 'pixel477', 'pixel478', 'pixel479', 'pixel480', 'pixel481', 'pixel482', 'pixel483', 'pixel484', 'pixel485', 'pixel486', 'pixel487', 'pixel488', 'pixel489', 'pixel490', 'pixel491', 'pixel492', 'pixel493', 'pixel494', 'pixel495', 'pixel496', 'pixel497', 'pixel498', 'pixel499', 'pixel500', 'pixel501', 'pixel502', 'pixel503', 'pixel504', 'pixel505', 'pixel506', 'pixel507', 'pixel508', 'pixel509', 'pixel510', 'pixel511', 'pixel512', 'pixel513', 'pixel514', 'pixel515', 'pixel516', 'pixel517', 'pixel518', 'pixel519', 'pixel520', 'pixel521', 'pixel522', 'pixel523', 'pixel524', 'pixel525', 'pixel526', 'pixel527', 'pixel528', 'pixel529', 'pixel530', 'pixel531', 'pixel532', 'pixel533', 'pixel534', 'pixel535', 'pixel536', 'pixel537', 'pixel538', 'pixel539', 'pixel540', 'pixel541', 'pixel542', 'pixel543', 'pixel544', 'pixel545', 'pixel546', 'pixel547', 'pixel548', 'pixel549', 'pixel550', 'pixel551', 'pixel552', 'pixel553', 'pixel554', 'pixel555', 'pixel556', 'pixel557', 'pixel558', 'pixel559', 'pixel560', 'pixel561', 'pixel562', 'pixel563', 'pixel564', 'pixel565', 'pixel566', 'pixel567', 'pixel568', 'pixel569', 'pixel570', 'pixel571', 'pixel572', 'pixel573', 'pixel574', 'pixel575', 'pixel576', 'pixel577', 'pixel578', 'pixel579', 'pixel580', 'pixel581', 'pixel582', 'pixel583', 'pixel584', 'pixel585', 'pixel586', 'pixel587', 'pixel588', 'pixel589', 'pixel590', 'pixel591', 'pixel592', 'pixel593', 'pixel594', 'pixel595', 'pixel596', 'pixel597', 'pixel598', 'pixel599', 'pixel600', 'pixel601', 'pixel602', 'pixel603', 'pixel604', 'pixel605', 'pixel606', 'pixel607', 'pixel608', 'pixel609', 'pixel610', 'pixel611', 'pixel612', 'pixel613', 'pixel614', 'pixel615', 'pixel616', 'pixel617', 'pixel618', 'pixel619', 'pixel620', 'pixel621', 'pixel622', 'pixel623', 'pixel624', 'pixel625', 'pixel626', 'pixel627', 'pixel628', 'pixel629', 'pixel630', 'pixel631', 'pixel632', 'pixel633', 'pixel634', 'pixel635', 'pixel636', 'pixel637', 'pixel638', 'pixel639', 'pixel640', 'pixel641', 'pixel642', 'pixel643', 'pixel644', 'pixel645', 'pixel646', 'pixel647', 'pixel648', 'pixel649', 'pixel650', 'pixel651', 'pixel652', 'pixel653', 'pixel654', 'pixel655', 'pixel656', 'pixel657', 'pixel658', 'pixel659', 'pixel660', 'pixel661', 'pixel662', 'pixel663', 'pixel664', 'pixel665', 'pixel666', 'pixel667', 'pixel668', 'pixel669', 'pixel670', 'pixel671', 'pixel672', 'pixel673', 'pixel674', 'pixel675', 'pixel676', 'pixel677', 'pixel678', 'pixel679', 'pixel680', 'pixel681', 'pixel682', 'pixel683', 'pixel684', 'pixel685', 'pixel686', 'pixel687', 'pixel688', 'pixel689', 'pixel690', 'pixel691', 'pixel692', 'pixel693', 'pixel694', 'pixel695', 'pixel696', 'pixel697', 'pixel698', 'pixel699', 'pixel700', 'pixel701', 'pixel702', 'pixel703', 'pixel704', 'pixel705', 'pixel706', 'pixel707', 'pixel708', 'pixel709', 'pixel710', 'pixel711', 'pixel712', 'pixel713', 'pixel714', 'pixel715', 'pixel716', 'pixel717', 'pixel718', 'pixel719', 'pixel720', 'pixel721', 'pixel722', 'pixel723', 'pixel724', 'pixel725', 'pixel726', 'pixel727', 'pixel728', 'pixel729', 'pixel730', 'pixel731', 'pixel732', 'pixel733', 'pixel734', 'pixel735', 'pixel736', 'pixel737', 'pixel738', 'pixel739', 'pixel740', 'pixel741', 'pixel742', 'pixel743', 'pixel744', 'pixel745', 'pixel746', 'pixel747', 'pixel748', 'pixel749', 'pixel750', 'pixel751', 'pixel752', 'pixel753', 'pixel754', 'pixel755', 'pixel756', 'pixel757', 'pixel758', 'pixel759', 'pixel760', 'pixel761', 'pixel762', 'pixel763', 'pixel764', 'pixel765', 'pixel766', 'pixel767', 'pixel768', 'pixel769', 'pixel770', 'pixel771', 'pixel772', 'pixel773', 'pixel774', 'pixel775', 'pixel776', 'pixel777', 'pixel778', 'pixel779', 'pixel780', 'pixel781', 'pixel782', 'pixel783', 'pixel784']\n"
     ]
    }
   ],
   "source": [
    "print(\"feature names: {}\".format(mnist_bunch['feature_names']))"
   ]
  },
  {
   "cell_type": "code",
   "execution_count": 31,
   "metadata": {},
   "outputs": [
    {
     "name": "stdout",
     "output_type": "stream",
     "text": [
      "data: [[0. 0. 0. ... 0. 0. 0.]\n",
      " [0. 0. 0. ... 0. 0. 0.]\n",
      " [0. 0. 0. ... 0. 0. 0.]\n",
      " ...\n",
      " [0. 0. 0. ... 0. 0. 0.]\n",
      " [0. 0. 0. ... 0. 0. 0.]\n",
      " [0. 0. 0. ... 0. 0. 0.]]\n",
      "data shape: (70000, 784)\n"
     ]
    }
   ],
   "source": [
    "print(\"data: {}\".format(mnist_bunch[\"data\"]))\n",
    "print(\"data shape: {}\".format(mnist_bunch[\"data\"].shape))"
   ]
  },
  {
   "cell_type": "code",
   "execution_count": 33,
   "metadata": {},
   "outputs": [],
   "source": [
    "import pandas as pd\n",
    "\n",
    "df = pd.DataFrame(data= np.c_[mnist_bunch['target'], mnist_bunch['data']])\n",
    "df.to_csv('mnist_dataset.csv')"
   ]
  },
  {
   "cell_type": "code",
   "execution_count": 42,
   "metadata": {},
   "outputs": [
    {
     "name": "stdout",
     "output_type": "stream",
     "text": [
      "       0    1    2    3    4    5    6    7    8    9 ...   775  776  777  \\\n",
      "0      5  0.0  0.0  0.0  0.0  0.0  0.0  0.0  0.0  0.0 ...   0.0  0.0  0.0   \n",
      "1      0  0.0  0.0  0.0  0.0  0.0  0.0  0.0  0.0  0.0 ...   0.0  0.0  0.0   \n",
      "2      4  0.0  0.0  0.0  0.0  0.0  0.0  0.0  0.0  0.0 ...   0.0  0.0  0.0   \n",
      "3      1  0.0  0.0  0.0  0.0  0.0  0.0  0.0  0.0  0.0 ...   0.0  0.0  0.0   \n",
      "4      9  0.0  0.0  0.0  0.0  0.0  0.0  0.0  0.0  0.0 ...   0.0  0.0  0.0   \n",
      "5      2  0.0  0.0  0.0  0.0  0.0  0.0  0.0  0.0  0.0 ...   0.0  0.0  0.0   \n",
      "6      1  0.0  0.0  0.0  0.0  0.0  0.0  0.0  0.0  0.0 ...   0.0  0.0  0.0   \n",
      "7      3  0.0  0.0  0.0  0.0  0.0  0.0  0.0  0.0  0.0 ...   0.0  0.0  0.0   \n",
      "8      1  0.0  0.0  0.0  0.0  0.0  0.0  0.0  0.0  0.0 ...   0.0  0.0  0.0   \n",
      "9      4  0.0  0.0  0.0  0.0  0.0  0.0  0.0  0.0  0.0 ...   0.0  0.0  0.0   \n",
      "10     3  0.0  0.0  0.0  0.0  0.0  0.0  0.0  0.0  0.0 ...   0.0  0.0  0.0   \n",
      "11     5  0.0  0.0  0.0  0.0  0.0  0.0  0.0  0.0  0.0 ...   0.0  0.0  0.0   \n",
      "12     3  0.0  0.0  0.0  0.0  0.0  0.0  0.0  0.0  0.0 ...   0.0  0.0  0.0   \n",
      "13     6  0.0  0.0  0.0  0.0  0.0  0.0  0.0  0.0  0.0 ...   0.0  0.0  0.0   \n",
      "14     1  0.0  0.0  0.0  0.0  0.0  0.0  0.0  0.0  0.0 ...   0.0  0.0  0.0   \n",
      "15     7  0.0  0.0  0.0  0.0  0.0  0.0  0.0  0.0  0.0 ...   0.0  0.0  0.0   \n",
      "16     2  0.0  0.0  0.0  0.0  0.0  0.0  0.0  0.0  0.0 ...   0.0  0.0  0.0   \n",
      "17     8  0.0  0.0  0.0  0.0  0.0  0.0  0.0  0.0  0.0 ...   0.0  0.0  0.0   \n",
      "18     6  0.0  0.0  0.0  0.0  0.0  0.0  0.0  0.0  0.0 ...   0.0  0.0  0.0   \n",
      "19     9  0.0  0.0  0.0  0.0  0.0  0.0  0.0  0.0  0.0 ...   0.0  0.0  0.0   \n",
      "20     4  0.0  0.0  0.0  0.0  0.0  0.0  0.0  0.0  0.0 ...   0.0  0.0  0.0   \n",
      "21     0  0.0  0.0  0.0  0.0  0.0  0.0  0.0  0.0  0.0 ...   0.0  0.0  0.0   \n",
      "22     9  0.0  0.0  0.0  0.0  0.0  0.0  0.0  0.0  0.0 ...   0.0  0.0  0.0   \n",
      "23     1  0.0  0.0  0.0  0.0  0.0  0.0  0.0  0.0  0.0 ...   0.0  0.0  0.0   \n",
      "24     1  0.0  0.0  0.0  0.0  0.0  0.0  0.0  0.0  0.0 ...   0.0  0.0  0.0   \n",
      "25     2  0.0  0.0  0.0  0.0  0.0  0.0  0.0  0.0  0.0 ...   0.0  0.0  0.0   \n",
      "26     4  0.0  0.0  0.0  0.0  0.0  0.0  0.0  0.0  0.0 ...   0.0  0.0  0.0   \n",
      "27     3  0.0  0.0  0.0  0.0  0.0  0.0  0.0  0.0  0.0 ...   0.0  0.0  0.0   \n",
      "28     2  0.0  0.0  0.0  0.0  0.0  0.0  0.0  0.0  0.0 ...   0.0  0.0  0.0   \n",
      "29     7  0.0  0.0  0.0  0.0  0.0  0.0  0.0  0.0  0.0 ...   0.0  0.0  0.0   \n",
      "...   ..  ...  ...  ...  ...  ...  ...  ...  ...  ... ...   ...  ...  ...   \n",
      "69970  5  0.0  0.0  0.0  0.0  0.0  0.0  0.0  0.0  0.0 ...   0.0  0.0  0.0   \n",
      "69971  2  0.0  0.0  0.0  0.0  0.0  0.0  0.0  0.0  0.0 ...   0.0  0.0  0.0   \n",
      "69972  4  0.0  0.0  0.0  0.0  0.0  0.0  0.0  0.0  0.0 ...   0.0  0.0  0.0   \n",
      "69973  9  0.0  0.0  0.0  0.0  0.0  0.0  0.0  0.0  0.0 ...   0.0  0.0  0.0   \n",
      "69974  4  0.0  0.0  0.0  0.0  0.0  0.0  0.0  0.0  0.0 ...   0.0  0.0  0.0   \n",
      "69975  3  0.0  0.0  0.0  0.0  0.0  0.0  0.0  0.0  0.0 ...   0.0  0.0  0.0   \n",
      "69976  6  0.0  0.0  0.0  0.0  0.0  0.0  0.0  0.0  0.0 ...   0.0  0.0  0.0   \n",
      "69977  4  0.0  0.0  0.0  0.0  0.0  0.0  0.0  0.0  0.0 ...   0.0  0.0  0.0   \n",
      "69978  1  0.0  0.0  0.0  0.0  0.0  0.0  0.0  0.0  0.0 ...   0.0  0.0  0.0   \n",
      "69979  7  0.0  0.0  0.0  0.0  0.0  0.0  0.0  0.0  0.0 ...   0.0  0.0  0.0   \n",
      "69980  2  0.0  0.0  0.0  0.0  0.0  0.0  0.0  0.0  0.0 ...   0.0  0.0  0.0   \n",
      "69981  6  0.0  0.0  0.0  0.0  0.0  0.0  0.0  0.0  0.0 ...   0.0  0.0  0.0   \n",
      "69982  5  0.0  0.0  0.0  0.0  0.0  0.0  0.0  0.0  0.0 ...   0.0  0.0  0.0   \n",
      "69983  0  0.0  0.0  0.0  0.0  0.0  0.0  0.0  0.0  0.0 ...   0.0  0.0  0.0   \n",
      "69984  1  0.0  0.0  0.0  0.0  0.0  0.0  0.0  0.0  0.0 ...   0.0  0.0  0.0   \n",
      "69985  2  0.0  0.0  0.0  0.0  0.0  0.0  0.0  0.0  0.0 ...   0.0  0.0  0.0   \n",
      "69986  3  0.0  0.0  0.0  0.0  0.0  0.0  0.0  0.0  0.0 ...   0.0  0.0  0.0   \n",
      "69987  4  0.0  0.0  0.0  0.0  0.0  0.0  0.0  0.0  0.0 ...   0.0  0.0  0.0   \n",
      "69988  5  0.0  0.0  0.0  0.0  0.0  0.0  0.0  0.0  0.0 ...   0.0  0.0  0.0   \n",
      "69989  6  0.0  0.0  0.0  0.0  0.0  0.0  0.0  0.0  0.0 ...   0.0  0.0  0.0   \n",
      "69990  7  0.0  0.0  0.0  0.0  0.0  0.0  0.0  0.0  0.0 ...   0.0  0.0  0.0   \n",
      "69991  8  0.0  0.0  0.0  0.0  0.0  0.0  0.0  0.0  0.0 ...   0.0  0.0  0.0   \n",
      "69992  9  0.0  0.0  0.0  0.0  0.0  0.0  0.0  0.0  0.0 ...   0.0  0.0  0.0   \n",
      "69993  0  0.0  0.0  0.0  0.0  0.0  0.0  0.0  0.0  0.0 ...   0.0  0.0  0.0   \n",
      "69994  1  0.0  0.0  0.0  0.0  0.0  0.0  0.0  0.0  0.0 ...   0.0  0.0  0.0   \n",
      "69995  2  0.0  0.0  0.0  0.0  0.0  0.0  0.0  0.0  0.0 ...   0.0  0.0  0.0   \n",
      "69996  3  0.0  0.0  0.0  0.0  0.0  0.0  0.0  0.0  0.0 ...   0.0  0.0  0.0   \n",
      "69997  4  0.0  0.0  0.0  0.0  0.0  0.0  0.0  0.0  0.0 ...   0.0  0.0  0.0   \n",
      "69998  5  0.0  0.0  0.0  0.0  0.0  0.0  0.0  0.0  0.0 ...   0.0  0.0  0.0   \n",
      "69999  6  0.0  0.0  0.0  0.0  0.0  0.0  0.0  0.0  0.0 ...   0.0  0.0  0.0   \n",
      "\n",
      "       778  779  780  781  782  783  784  \n",
      "0      0.0  0.0  0.0  0.0  0.0  0.0  0.0  \n",
      "1      0.0  0.0  0.0  0.0  0.0  0.0  0.0  \n",
      "2      0.0  0.0  0.0  0.0  0.0  0.0  0.0  \n",
      "3      0.0  0.0  0.0  0.0  0.0  0.0  0.0  \n",
      "4      0.0  0.0  0.0  0.0  0.0  0.0  0.0  \n",
      "5      0.0  0.0  0.0  0.0  0.0  0.0  0.0  \n",
      "6      0.0  0.0  0.0  0.0  0.0  0.0  0.0  \n",
      "7      0.0  0.0  0.0  0.0  0.0  0.0  0.0  \n",
      "8      0.0  0.0  0.0  0.0  0.0  0.0  0.0  \n",
      "9      0.0  0.0  0.0  0.0  0.0  0.0  0.0  \n",
      "10     0.0  0.0  0.0  0.0  0.0  0.0  0.0  \n",
      "11     0.0  0.0  0.0  0.0  0.0  0.0  0.0  \n",
      "12     0.0  0.0  0.0  0.0  0.0  0.0  0.0  \n",
      "13     0.0  0.0  0.0  0.0  0.0  0.0  0.0  \n",
      "14     0.0  0.0  0.0  0.0  0.0  0.0  0.0  \n",
      "15     0.0  0.0  0.0  0.0  0.0  0.0  0.0  \n",
      "16     0.0  0.0  0.0  0.0  0.0  0.0  0.0  \n",
      "17     0.0  0.0  0.0  0.0  0.0  0.0  0.0  \n",
      "18     0.0  0.0  0.0  0.0  0.0  0.0  0.0  \n",
      "19     0.0  0.0  0.0  0.0  0.0  0.0  0.0  \n",
      "20     0.0  0.0  0.0  0.0  0.0  0.0  0.0  \n",
      "21     0.0  0.0  0.0  0.0  0.0  0.0  0.0  \n",
      "22     0.0  0.0  0.0  0.0  0.0  0.0  0.0  \n",
      "23     0.0  0.0  0.0  0.0  0.0  0.0  0.0  \n",
      "24     0.0  0.0  0.0  0.0  0.0  0.0  0.0  \n",
      "25     0.0  0.0  0.0  0.0  0.0  0.0  0.0  \n",
      "26     0.0  0.0  0.0  0.0  0.0  0.0  0.0  \n",
      "27     0.0  0.0  0.0  0.0  0.0  0.0  0.0  \n",
      "28     0.0  0.0  0.0  0.0  0.0  0.0  0.0  \n",
      "29     0.0  0.0  0.0  0.0  0.0  0.0  0.0  \n",
      "...    ...  ...  ...  ...  ...  ...  ...  \n",
      "69970  0.0  0.0  0.0  0.0  0.0  0.0  0.0  \n",
      "69971  0.0  0.0  0.0  0.0  0.0  0.0  0.0  \n",
      "69972  0.0  0.0  0.0  0.0  0.0  0.0  0.0  \n",
      "69973  0.0  0.0  0.0  0.0  0.0  0.0  0.0  \n",
      "69974  0.0  0.0  0.0  0.0  0.0  0.0  0.0  \n",
      "69975  0.0  0.0  0.0  0.0  0.0  0.0  0.0  \n",
      "69976  0.0  0.0  0.0  0.0  0.0  0.0  0.0  \n",
      "69977  0.0  0.0  0.0  0.0  0.0  0.0  0.0  \n",
      "69978  0.0  0.0  0.0  0.0  0.0  0.0  0.0  \n",
      "69979  0.0  0.0  0.0  0.0  0.0  0.0  0.0  \n",
      "69980  0.0  0.0  0.0  0.0  0.0  0.0  0.0  \n",
      "69981  0.0  0.0  0.0  0.0  0.0  0.0  0.0  \n",
      "69982  0.0  0.0  0.0  0.0  0.0  0.0  0.0  \n",
      "69983  0.0  0.0  0.0  0.0  0.0  0.0  0.0  \n",
      "69984  0.0  0.0  0.0  0.0  0.0  0.0  0.0  \n",
      "69985  0.0  0.0  0.0  0.0  0.0  0.0  0.0  \n",
      "69986  0.0  0.0  0.0  0.0  0.0  0.0  0.0  \n",
      "69987  0.0  0.0  0.0  0.0  0.0  0.0  0.0  \n",
      "69988  0.0  0.0  0.0  0.0  0.0  0.0  0.0  \n",
      "69989  0.0  0.0  0.0  0.0  0.0  0.0  0.0  \n",
      "69990  0.0  0.0  0.0  0.0  0.0  0.0  0.0  \n",
      "69991  0.0  0.0  0.0  0.0  0.0  0.0  0.0  \n",
      "69992  0.0  0.0  0.0  0.0  0.0  0.0  0.0  \n",
      "69993  0.0  0.0  0.0  0.0  0.0  0.0  0.0  \n",
      "69994  0.0  0.0  0.0  0.0  0.0  0.0  0.0  \n",
      "69995  0.0  0.0  0.0  0.0  0.0  0.0  0.0  \n",
      "69996  0.0  0.0  0.0  0.0  0.0  0.0  0.0  \n",
      "69997  0.0  0.0  0.0  0.0  0.0  0.0  0.0  \n",
      "69998  0.0  0.0  0.0  0.0  0.0  0.0  0.0  \n",
      "69999  0.0  0.0  0.0  0.0  0.0  0.0  0.0  \n",
      "\n",
      "[70000 rows x 785 columns]\n"
     ]
    }
   ],
   "source": [
    "df = pd.read_csv('mnist_dataset.csv', index_col=0)\n",
    "\n",
    "print(df)"
   ]
  },
  {
   "cell_type": "code",
   "execution_count": 55,
   "metadata": {},
   "outputs": [
    {
     "name": "stdout",
     "output_type": "stream",
     "text": [
      "         1    2    3    4    5    6    7    8    9   10 ...   775  776  777  \\\n",
      "0      0.0  0.0  0.0  0.0  0.0  0.0  0.0  0.0  0.0  0.0 ...   0.0  0.0  0.0   \n",
      "1      0.0  0.0  0.0  0.0  0.0  0.0  0.0  0.0  0.0  0.0 ...   0.0  0.0  0.0   \n",
      "2      0.0  0.0  0.0  0.0  0.0  0.0  0.0  0.0  0.0  0.0 ...   0.0  0.0  0.0   \n",
      "3      0.0  0.0  0.0  0.0  0.0  0.0  0.0  0.0  0.0  0.0 ...   0.0  0.0  0.0   \n",
      "4      0.0  0.0  0.0  0.0  0.0  0.0  0.0  0.0  0.0  0.0 ...   0.0  0.0  0.0   \n",
      "5      0.0  0.0  0.0  0.0  0.0  0.0  0.0  0.0  0.0  0.0 ...   0.0  0.0  0.0   \n",
      "6      0.0  0.0  0.0  0.0  0.0  0.0  0.0  0.0  0.0  0.0 ...   0.0  0.0  0.0   \n",
      "7      0.0  0.0  0.0  0.0  0.0  0.0  0.0  0.0  0.0  0.0 ...   0.0  0.0  0.0   \n",
      "8      0.0  0.0  0.0  0.0  0.0  0.0  0.0  0.0  0.0  0.0 ...   0.0  0.0  0.0   \n",
      "9      0.0  0.0  0.0  0.0  0.0  0.0  0.0  0.0  0.0  0.0 ...   0.0  0.0  0.0   \n",
      "10     0.0  0.0  0.0  0.0  0.0  0.0  0.0  0.0  0.0  0.0 ...   0.0  0.0  0.0   \n",
      "11     0.0  0.0  0.0  0.0  0.0  0.0  0.0  0.0  0.0  0.0 ...   0.0  0.0  0.0   \n",
      "12     0.0  0.0  0.0  0.0  0.0  0.0  0.0  0.0  0.0  0.0 ...   0.0  0.0  0.0   \n",
      "13     0.0  0.0  0.0  0.0  0.0  0.0  0.0  0.0  0.0  0.0 ...   0.0  0.0  0.0   \n",
      "14     0.0  0.0  0.0  0.0  0.0  0.0  0.0  0.0  0.0  0.0 ...   0.0  0.0  0.0   \n",
      "15     0.0  0.0  0.0  0.0  0.0  0.0  0.0  0.0  0.0  0.0 ...   0.0  0.0  0.0   \n",
      "16     0.0  0.0  0.0  0.0  0.0  0.0  0.0  0.0  0.0  0.0 ...   0.0  0.0  0.0   \n",
      "17     0.0  0.0  0.0  0.0  0.0  0.0  0.0  0.0  0.0  0.0 ...   0.0  0.0  0.0   \n",
      "18     0.0  0.0  0.0  0.0  0.0  0.0  0.0  0.0  0.0  0.0 ...   0.0  0.0  0.0   \n",
      "19     0.0  0.0  0.0  0.0  0.0  0.0  0.0  0.0  0.0  0.0 ...   0.0  0.0  0.0   \n",
      "20     0.0  0.0  0.0  0.0  0.0  0.0  0.0  0.0  0.0  0.0 ...   0.0  0.0  0.0   \n",
      "21     0.0  0.0  0.0  0.0  0.0  0.0  0.0  0.0  0.0  0.0 ...   0.0  0.0  0.0   \n",
      "22     0.0  0.0  0.0  0.0  0.0  0.0  0.0  0.0  0.0  0.0 ...   0.0  0.0  0.0   \n",
      "23     0.0  0.0  0.0  0.0  0.0  0.0  0.0  0.0  0.0  0.0 ...   0.0  0.0  0.0   \n",
      "24     0.0  0.0  0.0  0.0  0.0  0.0  0.0  0.0  0.0  0.0 ...   0.0  0.0  0.0   \n",
      "25     0.0  0.0  0.0  0.0  0.0  0.0  0.0  0.0  0.0  0.0 ...   0.0  0.0  0.0   \n",
      "26     0.0  0.0  0.0  0.0  0.0  0.0  0.0  0.0  0.0  0.0 ...   0.0  0.0  0.0   \n",
      "27     0.0  0.0  0.0  0.0  0.0  0.0  0.0  0.0  0.0  0.0 ...   0.0  0.0  0.0   \n",
      "28     0.0  0.0  0.0  0.0  0.0  0.0  0.0  0.0  0.0  0.0 ...   0.0  0.0  0.0   \n",
      "29     0.0  0.0  0.0  0.0  0.0  0.0  0.0  0.0  0.0  0.0 ...   0.0  0.0  0.0   \n",
      "...    ...  ...  ...  ...  ...  ...  ...  ...  ...  ... ...   ...  ...  ...   \n",
      "69970  0.0  0.0  0.0  0.0  0.0  0.0  0.0  0.0  0.0  0.0 ...   0.0  0.0  0.0   \n",
      "69971  0.0  0.0  0.0  0.0  0.0  0.0  0.0  0.0  0.0  0.0 ...   0.0  0.0  0.0   \n",
      "69972  0.0  0.0  0.0  0.0  0.0  0.0  0.0  0.0  0.0  0.0 ...   0.0  0.0  0.0   \n",
      "69973  0.0  0.0  0.0  0.0  0.0  0.0  0.0  0.0  0.0  0.0 ...   0.0  0.0  0.0   \n",
      "69974  0.0  0.0  0.0  0.0  0.0  0.0  0.0  0.0  0.0  0.0 ...   0.0  0.0  0.0   \n",
      "69975  0.0  0.0  0.0  0.0  0.0  0.0  0.0  0.0  0.0  0.0 ...   0.0  0.0  0.0   \n",
      "69976  0.0  0.0  0.0  0.0  0.0  0.0  0.0  0.0  0.0  0.0 ...   0.0  0.0  0.0   \n",
      "69977  0.0  0.0  0.0  0.0  0.0  0.0  0.0  0.0  0.0  0.0 ...   0.0  0.0  0.0   \n",
      "69978  0.0  0.0  0.0  0.0  0.0  0.0  0.0  0.0  0.0  0.0 ...   0.0  0.0  0.0   \n",
      "69979  0.0  0.0  0.0  0.0  0.0  0.0  0.0  0.0  0.0  0.0 ...   0.0  0.0  0.0   \n",
      "69980  0.0  0.0  0.0  0.0  0.0  0.0  0.0  0.0  0.0  0.0 ...   0.0  0.0  0.0   \n",
      "69981  0.0  0.0  0.0  0.0  0.0  0.0  0.0  0.0  0.0  0.0 ...   0.0  0.0  0.0   \n",
      "69982  0.0  0.0  0.0  0.0  0.0  0.0  0.0  0.0  0.0  0.0 ...   0.0  0.0  0.0   \n",
      "69983  0.0  0.0  0.0  0.0  0.0  0.0  0.0  0.0  0.0  0.0 ...   0.0  0.0  0.0   \n",
      "69984  0.0  0.0  0.0  0.0  0.0  0.0  0.0  0.0  0.0  0.0 ...   0.0  0.0  0.0   \n",
      "69985  0.0  0.0  0.0  0.0  0.0  0.0  0.0  0.0  0.0  0.0 ...   0.0  0.0  0.0   \n",
      "69986  0.0  0.0  0.0  0.0  0.0  0.0  0.0  0.0  0.0  0.0 ...   0.0  0.0  0.0   \n",
      "69987  0.0  0.0  0.0  0.0  0.0  0.0  0.0  0.0  0.0  0.0 ...   0.0  0.0  0.0   \n",
      "69988  0.0  0.0  0.0  0.0  0.0  0.0  0.0  0.0  0.0  0.0 ...   0.0  0.0  0.0   \n",
      "69989  0.0  0.0  0.0  0.0  0.0  0.0  0.0  0.0  0.0  0.0 ...   0.0  0.0  0.0   \n",
      "69990  0.0  0.0  0.0  0.0  0.0  0.0  0.0  0.0  0.0  0.0 ...   0.0  0.0  0.0   \n",
      "69991  0.0  0.0  0.0  0.0  0.0  0.0  0.0  0.0  0.0  0.0 ...   0.0  0.0  0.0   \n",
      "69992  0.0  0.0  0.0  0.0  0.0  0.0  0.0  0.0  0.0  0.0 ...   0.0  0.0  0.0   \n",
      "69993  0.0  0.0  0.0  0.0  0.0  0.0  0.0  0.0  0.0  0.0 ...   0.0  0.0  0.0   \n",
      "69994  0.0  0.0  0.0  0.0  0.0  0.0  0.0  0.0  0.0  0.0 ...   0.0  0.0  0.0   \n",
      "69995  0.0  0.0  0.0  0.0  0.0  0.0  0.0  0.0  0.0  0.0 ...   0.0  0.0  0.0   \n",
      "69996  0.0  0.0  0.0  0.0  0.0  0.0  0.0  0.0  0.0  0.0 ...   0.0  0.0  0.0   \n",
      "69997  0.0  0.0  0.0  0.0  0.0  0.0  0.0  0.0  0.0  0.0 ...   0.0  0.0  0.0   \n",
      "69998  0.0  0.0  0.0  0.0  0.0  0.0  0.0  0.0  0.0  0.0 ...   0.0  0.0  0.0   \n",
      "69999  0.0  0.0  0.0  0.0  0.0  0.0  0.0  0.0  0.0  0.0 ...   0.0  0.0  0.0   \n",
      "\n",
      "       778  779  780  781  782  783  784  \n",
      "0      0.0  0.0  0.0  0.0  0.0  0.0  0.0  \n",
      "1      0.0  0.0  0.0  0.0  0.0  0.0  0.0  \n",
      "2      0.0  0.0  0.0  0.0  0.0  0.0  0.0  \n",
      "3      0.0  0.0  0.0  0.0  0.0  0.0  0.0  \n",
      "4      0.0  0.0  0.0  0.0  0.0  0.0  0.0  \n",
      "5      0.0  0.0  0.0  0.0  0.0  0.0  0.0  \n",
      "6      0.0  0.0  0.0  0.0  0.0  0.0  0.0  \n",
      "7      0.0  0.0  0.0  0.0  0.0  0.0  0.0  \n",
      "8      0.0  0.0  0.0  0.0  0.0  0.0  0.0  \n",
      "9      0.0  0.0  0.0  0.0  0.0  0.0  0.0  \n",
      "10     0.0  0.0  0.0  0.0  0.0  0.0  0.0  \n",
      "11     0.0  0.0  0.0  0.0  0.0  0.0  0.0  \n",
      "12     0.0  0.0  0.0  0.0  0.0  0.0  0.0  \n",
      "13     0.0  0.0  0.0  0.0  0.0  0.0  0.0  \n",
      "14     0.0  0.0  0.0  0.0  0.0  0.0  0.0  \n",
      "15     0.0  0.0  0.0  0.0  0.0  0.0  0.0  \n",
      "16     0.0  0.0  0.0  0.0  0.0  0.0  0.0  \n",
      "17     0.0  0.0  0.0  0.0  0.0  0.0  0.0  \n",
      "18     0.0  0.0  0.0  0.0  0.0  0.0  0.0  \n",
      "19     0.0  0.0  0.0  0.0  0.0  0.0  0.0  \n",
      "20     0.0  0.0  0.0  0.0  0.0  0.0  0.0  \n",
      "21     0.0  0.0  0.0  0.0  0.0  0.0  0.0  \n",
      "22     0.0  0.0  0.0  0.0  0.0  0.0  0.0  \n",
      "23     0.0  0.0  0.0  0.0  0.0  0.0  0.0  \n",
      "24     0.0  0.0  0.0  0.0  0.0  0.0  0.0  \n",
      "25     0.0  0.0  0.0  0.0  0.0  0.0  0.0  \n",
      "26     0.0  0.0  0.0  0.0  0.0  0.0  0.0  \n",
      "27     0.0  0.0  0.0  0.0  0.0  0.0  0.0  \n",
      "28     0.0  0.0  0.0  0.0  0.0  0.0  0.0  \n",
      "29     0.0  0.0  0.0  0.0  0.0  0.0  0.0  \n",
      "...    ...  ...  ...  ...  ...  ...  ...  \n",
      "69970  0.0  0.0  0.0  0.0  0.0  0.0  0.0  \n",
      "69971  0.0  0.0  0.0  0.0  0.0  0.0  0.0  \n",
      "69972  0.0  0.0  0.0  0.0  0.0  0.0  0.0  \n",
      "69973  0.0  0.0  0.0  0.0  0.0  0.0  0.0  \n",
      "69974  0.0  0.0  0.0  0.0  0.0  0.0  0.0  \n",
      "69975  0.0  0.0  0.0  0.0  0.0  0.0  0.0  \n",
      "69976  0.0  0.0  0.0  0.0  0.0  0.0  0.0  \n",
      "69977  0.0  0.0  0.0  0.0  0.0  0.0  0.0  \n",
      "69978  0.0  0.0  0.0  0.0  0.0  0.0  0.0  \n",
      "69979  0.0  0.0  0.0  0.0  0.0  0.0  0.0  \n",
      "69980  0.0  0.0  0.0  0.0  0.0  0.0  0.0  \n",
      "69981  0.0  0.0  0.0  0.0  0.0  0.0  0.0  \n",
      "69982  0.0  0.0  0.0  0.0  0.0  0.0  0.0  \n",
      "69983  0.0  0.0  0.0  0.0  0.0  0.0  0.0  \n",
      "69984  0.0  0.0  0.0  0.0  0.0  0.0  0.0  \n",
      "69985  0.0  0.0  0.0  0.0  0.0  0.0  0.0  \n",
      "69986  0.0  0.0  0.0  0.0  0.0  0.0  0.0  \n",
      "69987  0.0  0.0  0.0  0.0  0.0  0.0  0.0  \n",
      "69988  0.0  0.0  0.0  0.0  0.0  0.0  0.0  \n",
      "69989  0.0  0.0  0.0  0.0  0.0  0.0  0.0  \n",
      "69990  0.0  0.0  0.0  0.0  0.0  0.0  0.0  \n",
      "69991  0.0  0.0  0.0  0.0  0.0  0.0  0.0  \n",
      "69992  0.0  0.0  0.0  0.0  0.0  0.0  0.0  \n",
      "69993  0.0  0.0  0.0  0.0  0.0  0.0  0.0  \n",
      "69994  0.0  0.0  0.0  0.0  0.0  0.0  0.0  \n",
      "69995  0.0  0.0  0.0  0.0  0.0  0.0  0.0  \n",
      "69996  0.0  0.0  0.0  0.0  0.0  0.0  0.0  \n",
      "69997  0.0  0.0  0.0  0.0  0.0  0.0  0.0  \n",
      "69998  0.0  0.0  0.0  0.0  0.0  0.0  0.0  \n",
      "69999  0.0  0.0  0.0  0.0  0.0  0.0  0.0  \n",
      "\n",
      "[70000 rows x 784 columns]\n"
     ]
    }
   ],
   "source": [
    "mnist_data = df.iloc[:,1:]\n",
    "print(mnist_data)"
   ]
  },
  {
   "cell_type": "code",
   "execution_count": 56,
   "metadata": {},
   "outputs": [
    {
     "name": "stdout",
     "output_type": "stream",
     "text": [
      "0        5\n",
      "1        0\n",
      "2        4\n",
      "3        1\n",
      "4        9\n",
      "5        2\n",
      "6        1\n",
      "7        3\n",
      "8        1\n",
      "9        4\n",
      "10       3\n",
      "11       5\n",
      "12       3\n",
      "13       6\n",
      "14       1\n",
      "15       7\n",
      "16       2\n",
      "17       8\n",
      "18       6\n",
      "19       9\n",
      "20       4\n",
      "21       0\n",
      "22       9\n",
      "23       1\n",
      "24       1\n",
      "25       2\n",
      "26       4\n",
      "27       3\n",
      "28       2\n",
      "29       7\n",
      "        ..\n",
      "69970    5\n",
      "69971    2\n",
      "69972    4\n",
      "69973    9\n",
      "69974    4\n",
      "69975    3\n",
      "69976    6\n",
      "69977    4\n",
      "69978    1\n",
      "69979    7\n",
      "69980    2\n",
      "69981    6\n",
      "69982    5\n",
      "69983    0\n",
      "69984    1\n",
      "69985    2\n",
      "69986    3\n",
      "69987    4\n",
      "69988    5\n",
      "69989    6\n",
      "69990    7\n",
      "69991    8\n",
      "69992    9\n",
      "69993    0\n",
      "69994    1\n",
      "69995    2\n",
      "69996    3\n",
      "69997    4\n",
      "69998    5\n",
      "69999    6\n",
      "Name: 0, Length: 70000, dtype: int64\n"
     ]
    }
   ],
   "source": [
    "mnist_target = df.iloc[:,0]\n",
    "print(mnist_target)"
   ]
  },
  {
   "cell_type": "code",
   "execution_count": 153,
   "metadata": {},
   "outputs": [],
   "source": [
    "import json\n",
    "\n",
    "sample = df.sample(n=8, random_state=3)\n",
    "sample_json = sample.to_json(orient=\"records\")\n",
    "sample_json = json.loads(sample_json)\n",
    "with open('data/sample.json', 'w') as fp:\n",
    "    json.dump({\"dataset\":sample_json}, fp)\n",
    "\n",
    "sample_target = sample.iloc[:,0]\n",
    "# sample_target.to_json(orient=\"records\", path_or_buf=\"data/sample_target.json\")\n",
    "target_json = sample_target.to_json(orient=\"records\")\n",
    "target_json = json.loads(target_json)\n",
    "with open('data/sample_target.json', 'w') as fp:\n",
    "    json.dump({\"target\":target_json}, fp)\n",
    "\n",
    "sample_data = sample.iloc[:,1:]\n",
    "# sample_data.to_json(orient=\"records\", path_or_buf=\"data/sample_data.json\")\n",
    "data_json = sample_data.to_json(orient=\"records\")\n",
    "data_json = json.loads(data_json)\n",
    "\n",
    "with open('data/sample_data.json', 'w') as fp:\n",
    "    json.dump({\"payload\":data_json}, fp)"
   ]
  },
  {
   "cell_type": "code",
   "execution_count": 133,
   "metadata": {},
   "outputs": [
    {
     "name": "stdout",
     "output_type": "stream",
     "text": [
      "<class 'pandas.core.frame.DataFrame'>\n",
      "RangeIndex: 8 entries, 0 to 7\n",
      "Columns: 784 entries, 1 to 784\n",
      "dtypes: int64(784)\n",
      "memory usage: 49.1 KB\n",
      "None\n",
      "   1    2    3    4    5    6    7    8    9    10  ...   775  776  777  778  \\\n",
      "0    0    0    0    0    0    0    0    0    0    0 ...     0    0    0    0   \n",
      "1    0    0    0    0    0    0    0    0    0    0 ...     0    0    0    0   \n",
      "2    0    0    0    0    0    0    0    0    0    0 ...     0    0    0    0   \n",
      "3    0    0    0    0    0    0    0    0    0    0 ...     0    0    0    0   \n",
      "4    0    0    0    0    0    0    0    0    0    0 ...     0    0    0    0   \n",
      "5    0    0    0    0    0    0    0    0    0    0 ...     0    0    0    0   \n",
      "6    0    0    0    0    0    0    0    0    0    0 ...     0    0    0    0   \n",
      "7    0    0    0    0    0    0    0    0    0    0 ...     0    0    0    0   \n",
      "\n",
      "   779  780  781  782  783  784  \n",
      "0    0    0    0    0    0    0  \n",
      "1    0    0    0    0    0    0  \n",
      "2    0    0    0    0    0    0  \n",
      "3    0    0    0    0    0    0  \n",
      "4    0    0    0    0    0    0  \n",
      "5    0    0    0    0    0    0  \n",
      "6    0    0    0    0    0    0  \n",
      "7    0    0    0    0    0    0  \n",
      "\n",
      "[8 rows x 784 columns]\n",
      "   0\n",
      "0  5\n",
      "1  3\n",
      "2  3\n",
      "3  6\n",
      "4  2\n",
      "5  3\n",
      "6  5\n",
      "7  1\n",
      "Prediction of test data: [3 5 3 6 2 3 5 1]\n",
      "Actual target of test data: [5 3 3 6 2 3 5 1]\n"
     ]
    }
   ],
   "source": [
    "with open('data/sample_data.json') as f:\n",
    "    sample_data = json.load(f)\n",
    "\n",
    "panda_data = pd.read_json(path_or_buf=\"data/sample_data.json\", orient=\"records\")\n",
    "panda_data.sort_index(axis=1, inplace=True)\n",
    "print(panda_data.info())\n",
    "print(panda_data)\n",
    "\n",
    "panda_target = pd.read_json(path_or_buf=\"data/sample_target.json\", orient=\"records\")\n",
    "print(panda_target)\n",
    "\n",
    "print(\"Prediction of test data: {}\".format(clf.predict(panda_data)))\n",
    "print(\"Actual target of test data: {}\".format(panda_target.values.flatten()))"
   ]
  },
  {
   "cell_type": "code",
   "execution_count": 98,
   "metadata": {},
   "outputs": [
    {
     "name": "stdout",
     "output_type": "stream",
     "text": [
      "Shape of X_train: (52500, 784)\n",
      "Shape of X_test: (17500, 784)\n",
      "Shape of y_train: (52500,)\n",
      "Shape of y_test: (17500,)\n"
     ]
    }
   ],
   "source": [
    "X_train, X_test, y_train, y_test = train_test_split(mnist_data, mnist_target, random_state=0)\n",
    "\n",
    "print(\"Shape of X_train: {}\".format(X_train.shape))\n",
    "print(\"Shape of X_test: {}\".format(X_test.shape))\n",
    "print(\"Shape of y_train: {}\".format(y_train.shape))\n",
    "print(\"Shape of y_test: {}\".format(y_test.shape))"
   ]
  },
  {
   "cell_type": "code",
   "execution_count": 69,
   "metadata": {},
   "outputs": [
    {
     "name": "stdout",
     "output_type": "stream",
     "text": [
      "Score of train data: 0.9308761904761905\n",
      "Score of test data: 0.9165714285714286\n"
     ]
    }
   ],
   "source": [
    "# from sklearn.preprocessing import StandardScaler\n",
    "\n",
    "# scaler = StandardScaler()\n",
    "# X_train = scaler.fit_transform(X_train)\n",
    "# X_test = scaler.transform(X_test)\n",
    "\n",
    "clf = LogisticRegression(solver='saga', tol=0.1, multi_class='multinomial')\n",
    "clf.fit(X_train, y_train)\n",
    "\n",
    "print(\"Score of train data: {}\".format(clf.score(X_train, y_train)))\n",
    "print(\"Score of test data: {}\".format(clf.score(X_test, y_test)))"
   ]
  },
  {
   "cell_type": "code",
   "execution_count": 62,
   "metadata": {},
   "outputs": [
    {
     "name": "stdout",
     "output_type": "stream",
     "text": [
      "Prediction of test data: [0 4 1 ... 5 9 2]\n",
      "Actual target of test data: 10840    0\n",
      "56267    4\n",
      "14849    1\n",
      "62726    2\n",
      "47180    7\n",
      "61640    9\n",
      "52730    7\n",
      "21847    1\n",
      "20394    1\n",
      "45806    7\n",
      "42625    1\n",
      "31178    3\n",
      "4439     4\n",
      "10300    2\n",
      "17814    6\n",
      "58478    4\n",
      "14487    6\n",
      "67504    7\n",
      "45911    3\n",
      "58021    3\n",
      "58393    7\n",
      "49780    0\n",
      "34159    5\n",
      "52166    7\n",
      "9596     6\n",
      "14318    5\n",
      "21407    6\n",
      "43481    4\n",
      "65540    7\n",
      "33702    4\n",
      "        ..\n",
      "61560    8\n",
      "2155     8\n",
      "24672    3\n",
      "29715    1\n",
      "63493    3\n",
      "14490    2\n",
      "40824    5\n",
      "69883    5\n",
      "19294    4\n",
      "16706    4\n",
      "34746    2\n",
      "26800    2\n",
      "61029    8\n",
      "33113    1\n",
      "52329    8\n",
      "52949    4\n",
      "38272    1\n",
      "58377    1\n",
      "55949    9\n",
      "5557     8\n",
      "6482     6\n",
      "64626    8\n",
      "22856    2\n",
      "48528    8\n",
      "63858    1\n",
      "46143    2\n",
      "5719     5\n",
      "68531    5\n",
      "15063    9\n",
      "16576    2\n",
      "Name: 0, Length: 17500, dtype: int64\n",
      "Shape of test data: (17500,)\n"
     ]
    }
   ],
   "source": [
    "print(\"Prediction of test data: {}\".format(clf.predict(X_test)))\n",
    "print(\"Actual target of test data: {}\".format(y_test))\n",
    "print(\"Shape of test data: {}\".format(y_test.shape))"
   ]
  },
  {
   "cell_type": "code",
   "execution_count": 59,
   "metadata": {},
   "outputs": [
    {
     "data": {
      "text/plain": [
       "Text(0.5,0.98,'Classification vector for...')"
      ]
     },
     "execution_count": 59,
     "metadata": {},
     "output_type": "execute_result"
    },
    {
     "data": {
      "image/png": "[encoded data removed]",
      "text/plain": [
       "<Figure size 720x360 with 10 Axes>"
      ]
     },
     "metadata": {},
     "output_type": "display_data"
    }
   ],
   "source": [
    "coef = clf.coef_.copy()\n",
    "plt.figure(figsize=(10, 5))\n",
    "scale = np.abs(coef).max()\n",
    "for i in range(10):\n",
    "    plot = plt.subplot(2, 5, i + 1)\n",
    "    plot.imshow(coef[i].reshape(28, 28), interpolation='nearest',\n",
    "                   cmap=plt.cm.RdBu, vmin=-scale, vmax=scale)\n",
    "    plot.set_xticks(())\n",
    "    plot.set_yticks(())\n",
    "    plot.set_xlabel('Class %i' % i)\n",
    "plt.suptitle('Classification vector for...')"
   ]
  },
  {
   "cell_type": "code",
   "execution_count": null,
   "metadata": {},
   "outputs": [],
   "source": []
  }
 ],
 "metadata": {
  "kernelspec": {
   "display_name": "Python 3",
   "language": "python",
   "name": "python3"
  },
  "language_info": {
   "codemirror_mode": {
    "name": "ipython",
    "version": 3
   },
   "file_extension": ".py",
   "mimetype": "text/x-python",
   "name": "python",
   "nbconvert_exporter": "python",
   "pygments_lexer": "ipython3",
   "version": "3.6.5"
  }
 },
 "nbformat": 4,
 "nbformat_minor": 2
}
